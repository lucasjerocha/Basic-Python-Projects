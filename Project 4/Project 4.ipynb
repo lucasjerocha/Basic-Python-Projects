{
 "cells": [
  {
   "cell_type": "markdown",
   "metadata": {},
   "source": [
    "# Project 4 \n",
    "\n",
    "Work done by - Lucas Rocha 2020112852"
   ]
  },
  {
   "cell_type": "code",
   "execution_count": null,
   "metadata": {},
   "outputs": [],
   "source": [
    "list = []\n",
    "response = 'S'\n",
    "while response == 'S':\n",
    "    x = input(\"Enter the employee's name or number: \").upper()\n",
    "    list.append(x)\n",
    "    response = input(\"Enter 'S' to continue: \").upper()\n",
    "\n",
    "from collections import OrderedDict\n",
    "order_count = OrderedDict()\n",
    "for item in list:\n",
    "    if item in order_count:\n",
    "        order_count[item] += 1\n",
    "    else:\n",
    "        order_count[item] = 1\n",
    "\n",
    "sorted_items = sorted(order_count.items(), key=lambda x: x[1], reverse=True)\n",
    "sorted_keys = [item[0] for item in sorted_items]\n",
    "\n",
    "print(\"\\n--------------------------------\\n\")\n",
    "print(sorted_items)\n",
    "print(sorted_keys)\n"
   ]
  }
 ],
 "metadata": {
  "kernelspec": {
   "display_name": "Python 3",
   "language": "python",
   "name": "python3"
  },
  "language_info": {
   "codemirror_mode": {
    "name": "ipython",
    "version": 3
   },
   "file_extension": ".py",
   "mimetype": "text/x-python",
   "name": "python",
   "nbconvert_exporter": "python",
   "pygments_lexer": "ipython3",
   "version": "3.8.5"
  }
 },
 "nbformat": 4,
 "nbformat_minor": 4
}
