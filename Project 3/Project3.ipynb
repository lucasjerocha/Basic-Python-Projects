{
 "cells": [
  {
   "cell_type": "markdown",
   "metadata": {},
   "source": [
    "# Project 3\n",
    "Work done by: Lucas Rocha (2020112852) "
   ]
  },
  {
   "cell_type": "code",
   "execution_count": null,
   "metadata": {},
   "outputs": [],
   "source": [
    "### Exercise 1 ###\n",
    "\n",
    "import random\n",
    "\n",
    "random_numbers = [random.randint(1, 4) for _ in range(5)]\n",
    "\n",
    "allowed_characters = \"abcdefghijklmnopqrstuvwxyz\"\n",
    "is_valid = False\n",
    "while not is_valid:\n",
    "    user_input = input(\"Enter a string of unaccented characters: \")\n",
    "    print(\"Original message: \", user_input)\n",
    "    user_input = user_input.lower()\n",
    "    is_valid = all(char in allowed_characters for char in user_input)\n",
    "    if not is_valid:\n",
    "        print(\"\\nInvalid characters detected.\\n\\nPlease only enter unaccented characters.\")\n",
    "\n",
    "vowel_indices = {vowel: user_input.find(vowel) for vowel in 'aeiou'}\n",
    "\n",
    "def encrypt_vowel(vowel_index, random_number):\n",
    "    return vowel_index * random_number if vowel_index >= 0 else \"-1\"\n",
    "\n",
    "encrypted_string = user_input\n",
    "for i, vowel in enumerate('aeiou'):\n",
    "    if vowel in encrypted_string:\n",
    "        encrypted_code = encrypt_vowel(vowel_indices[vowel], random_numbers[i])\n",
    "        encrypted_string = encrypted_string.replace(vowel, str(encrypted_code))\n",
    "\n",
    "print(\"Encrypted message: \", encrypted_string)\n",
    "\n",
    "encryption_codes = {vowel: encrypt_vowel(vowel_indices[vowel], random_numbers[i]) for i, vowel in enumerate('aeiou')}\n",
    "print(\"Encryption codes: \" + \";\".join([f\"{vowel}:{code}\" for vowel, code in encryption_codes.items()]))\n"
   ]
  }
 ],
 "metadata": {
  "kernelspec": {
   "display_name": "Python 3",
   "language": "python",
   "name": "python3"
  },
  "language_info": {
   "codemirror_mode": {
    "name": "ipython",
    "version": 3
   },
   "file_extension": ".py",
   "mimetype": "text/x-python",
   "name": "python",
   "nbconvert_exporter": "python",
   "pygments_lexer": "ipython3",
   "version": "3.8.5"
  }
 },
 "nbformat": 4,
 "nbformat_minor": 4
}
