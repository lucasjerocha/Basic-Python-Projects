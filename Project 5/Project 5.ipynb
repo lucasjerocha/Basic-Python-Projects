{
 "cells": [
  {
   "cell_type": "markdown",
   "metadata": {},
   "source": [
    "# Project 5\n",
    "Work done by: Lucas Rocha 2020112852 "
   ]
  },
  {
   "cell_type": "code",
   "execution_count": null,
   "metadata": {},
   "outputs": [],
   "source": [
    "import numpy as np\n",
    "import pylab\n",
    "\n",
    "def LifeTime():\n",
    "    list = [6, 12, 21, 27, 32, 39, 43, 89, 261, 263, 270, 311, 1, 1, 1, 1, 1, 1, 2, 1, 1, 1, 1, 1, 23, 22, 21, 20, 19, 18, 17, 14, 8, 7, 6, 4]\n",
    "    matrix = np.zeros(((int(len(list)/3)), 6), float)\n",
    "    list_max = []\n",
    "    list_temp = []\n",
    "    list_alive = []\n",
    "    list_deaths = []\n",
    "    for i in range(int(len(list)/3)):\n",
    "        matrix[i][0] = list[i]\n",
    "        matrix[i][1] = list[(int(len(list)/3))+i]\n",
    "        matrix[i][2] = list[((int(len(list)/3))*2)+i]\n",
    "        matrix[i][3] = round(list[(int(len(list)/3))+i]/list[((int(len(list)/3))*2)+i], 4)\n",
    "        matrix[i][4] = round(1-(list[(int(len(list)/3))+i]/list[((int(len(list)/3))*2)+i]), 4)\n",
    "        if i == 0:\n",
    "            matrix[i][5] = matrix[i][4]\n",
    "        else:\n",
    "            matrix[i][5] = round((matrix[i][4] * matrix[i-1][5]), 4)\n",
    "    for i in range(int(len(list)/3)):\n",
    "        if i == 0:\n",
    "            if matrix[i][1] > matrix[i+1][1]:\n",
    "                list_max.append(matrix[i][1])\n",
    "        elif i == (int(len(list)/3)-1):\n",
    "            if matrix[i][1] > matrix[i-1][1]:\n",
    "                list_max.append(matrix[i][1])\n",
    "        elif matrix[i-1][1] < matrix[i][1] > matrix[i+1][1]:\n",
    "            list_max.append(matrix[i][1])\n",
    "    for i in range(int(len(list)/3)):\n",
    "        list_temp.append(matrix[i][0])\n",
    "    for i in range(int(len(list)/3)):\n",
    "        list_deaths.append(matrix[i][1])\n",
    "    for i in range(int(len(list)/3)):\n",
    "        list_alive.append(matrix[i][2])\n",
    "    print(\"(i)\")\n",
    "    print(matrix)\n",
    "    print(\"\\n\")\n",
    "    print(\"(ii)\")\n",
    "    print(np.array(matrix).tolist())\n",
    "    print(\"\\n\")\n",
    "    print(\"(iii)\")\n",
    "    print(list_max)\n",
    "    print(\"\\n\")\n",
    "    print(\"(iv)\")\n",
    "    x = np.array(list_temp)\n",
    "    y = np.array(list_deaths)\n",
    "    pylab.plot(x, y, label=\"Deaths\", color='r')\n",
    "    pylab.xlabel(\"Time (t)\")\n",
    "    pylab.ylabel(\"Number of Deaths\")\n",
    "    pylab.legend()\n",
    "    pylab.grid()\n",
    "    pylab.show()\n",
    "    x = np.array(list_temp)\n",
    "    y = np.array(list_alive)\n",
    "    pylab.plot(x, y, label=\"Alive\", color='r')\n",
    "    pylab.xlabel(\"Time (t)\")\n",
    "    pylab.ylabel(\"Number of Alive\")\n",
    "    pylab.legend()\n",
    "    pylab.grid()\n",
    "    pylab.show()\n",
    "\n",
    "LifeTime()\n"
   ]
  }
 ],
 "metadata": {
  "kernelspec": {
   "display_name": "Python 3",
   "language": "python",
   "name": "python3"
  },
  "language_info": {
   "codemirror_mode": {
    "name": "ipython",
    "version": 3
   },
   "file_extension": ".py",
   "mimetype": "text/x-python",
   "name": "python",
   "nbconvert_exporter": "python",
   "pygments_lexer": "ipython3",
   "version": "3.8.5"
  }
 },
 "nbformat": 4,
 "nbformat_minor": 4
}
